{
 "cells": [
  {
   "cell_type": "markdown",
   "id": "fb52b085",
   "metadata": {},
   "source": [
    "# Install AHPY Library"
   ]
  },
  {
   "cell_type": "code",
   "execution_count": 1,
   "id": "2955ba0b",
   "metadata": {},
   "outputs": [
    {
     "name": "stdout",
     "output_type": "stream",
     "text": [
      "Requirement already satisfied: ahpy in c:\\programdata\\anaconda3\\lib\\site-packages (2.0)\n",
      "Requirement already satisfied: numpy in c:\\programdata\\anaconda3\\lib\\site-packages (from ahpy) (1.20.3)\n",
      "Requirement already satisfied: scipy in c:\\programdata\\anaconda3\\lib\\site-packages (from ahpy) (1.7.1)\n",
      "Note: you may need to restart the kernel to use updated packages.\n"
     ]
    }
   ],
   "source": [
    "pip install ahpy"
   ]
  },
  {
   "cell_type": "code",
   "execution_count": 2,
   "id": "1c91a51c",
   "metadata": {},
   "outputs": [],
   "source": [
    "import numpy as np\n",
    "import ahpy\n",
    "from numpy.linalg import eig"
   ]
  },
  {
   "cell_type": "markdown",
   "id": "9799f110",
   "metadata": {},
   "source": [
    "# Entering Comparison Matrix"
   ]
  },
  {
   "cell_type": "code",
   "execution_count": 3,
   "id": "7bce127c",
   "metadata": {},
   "outputs": [],
   "source": [
    "HC=np.array([[1,3,5],[1/3,1,3],[1/5,1/3,1]])\n",
    "AHC=np.array([[1,2,3],[1/2,1,2],[1/3,1/2,1]])\n",
    "PHC=np.array([[1,4,7],[1/4,1,3],[1/7,1/3,1]])\n",
    "CHC=np.array([[1,1/2,1/3],[2,1,1/2],[3,2,1]])"
   ]
  },
  {
   "cell_type": "markdown",
   "id": "bc276a03",
   "metadata": {},
   "source": [
    "# Claculating Eigenvalue"
   ]
  },
  {
   "cell_type": "code",
   "execution_count": 4,
   "id": "8204742b",
   "metadata": {},
   "outputs": [],
   "source": [
    "w1,v1=eig(HC)\n",
    "w2,v2=eig(AHC)\n",
    "w3,v3=eig(PHC)\n",
    "w4,v4=eig(CHC)"
   ]
  },
  {
   "cell_type": "markdown",
   "id": "8ca565d4",
   "metadata": {},
   "source": [
    "# Finding max{Landa}"
   ]
  },
  {
   "cell_type": "code",
   "execution_count": 13,
   "id": "bccd1515",
   "metadata": {},
   "outputs": [
    {
     "name": "stdout",
     "output_type": "stream",
     "text": [
      "Hazards Eignvalues are= [ 3.03851109 -0.01925555 -0.01925555] \n",
      " >>>> max(Eigenvalue)= 3.039 .\n",
      "-------------------------------------------------------------------\n",
      "Accident Hazards Eignvalues are= [ 3.00920271 -0.00460136 -0.00460136] \n",
      " >>>> max(Eigenvalue)= 3.009 .\n",
      "-------------------------------------------------------------------\n",
      "Physical Hazards Eignvalues are= [ 3.03851109 -0.01925555 -0.01925555] \n",
      " >>>> max(Eigenvalue)= 3.032 .\n",
      "-------------------------------------------------------------------\n",
      "Chemical Hazards Eignvalues are= [ 3.03851109 -0.01925555 -0.01925555] \n",
      " >>>> max(Eigenvalue)= 3.009 .\n"
     ]
    }
   ],
   "source": [
    "print(\"Hazards Eignvalues are=\",w1.real,\"\\n\",\">>>>\",\"max(Eigenvalue)=\",round(np.max(w1.real),3),\".\")\n",
    "print(\"-------------------------------------------------------------------\")\n",
    "print(\"Accident Hazards Eignvalues are=\",w2.real,\"\\n\",\">>>>\",\"max(Eigenvalue)=\",round(np.max(w2.real),3),\".\")\n",
    "print(\"-------------------------------------------------------------------\")\n",
    "print(\"Physical Hazards Eignvalues are=\",w1.real,\"\\n\",\">>>>\",\"max(Eigenvalue)=\",round(np.max(w3.real),3),\".\")\n",
    "print(\"-------------------------------------------------------------------\")\n",
    "print(\"Chemical Hazards Eignvalues are=\",w1.real,\"\\n\",\">>>>\",\"max(Eigenvalue)=\",round(np.max(w4.real),3),\".\")"
   ]
  },
  {
   "cell_type": "markdown",
   "id": "6b6ae567",
   "metadata": {},
   "source": [
    "# Claculating Weights"
   ]
  },
  {
   "cell_type": "code",
   "execution_count": 3,
   "id": "a5aeef16",
   "metadata": {},
   "outputs": [
    {
     "name": "stdout",
     "output_type": "stream",
     "text": [
      "{'Accident Hazard': 0.637, 'Physical Hazard': 0.2583, 'Chemical Hazard': 0.1047}\n",
      "{'Trip&Falls': 0.5278, 'Electricity&Lighting': 0.3325, 'Fire&Explosion': 0.1396}\n",
      "{'Machinery&Equipment': 0.7049, 'Vibration': 0.2109, 'Temperature': 0.0841}\n",
      "{'Neurological': 0.5396, 'Burns': 0.297, 'Ventilation': 0.1634}\n"
     ]
    }
   ],
   "source": [
    "Hazard_Comparison={('Accident Hazard','Physical Hazard'):3,('Accident Hazard','Chemical Hazard'):5,('Physical Hazard','Chemical Hazard'):3}\n",
    "Accident_Hazard_Comparison={('Trip&Falls','Electricity&Lighting'):2,('Trip&Falls','Fire&Explosion'):3,('Electricity&Lighting','Fire&Explosion'):3}\n",
    "Physical_Hazard_Comparison={('Machinery&Equipment','Vibration'):4,('Machinery&Equipment','Temperature'):7,('Vibration','Temperature') :3}\n",
    "Chemical_Hazard_Comparison={('Ventilation','Burns'):0.5,('Ventilation','Neurological'):1/3,('Burns','Neurological'):0.5}\n",
    "hazard= ahpy.Compare(name='Matrix', comparisons=Hazard_Comparison, precision=4, random_index='saaty')\n",
    "accident_hazard= ahpy.Compare(name='Matrix', comparisons=Accident_Hazard_Comparison, precision=4, random_index='saaty')\n",
    "physical_hazard= ahpy.Compare(name='Matrix', comparisons=Physical_Hazard_Comparison, precision=4, random_index='saaty')\n",
    "chemical_hazard= ahpy.Compare(name='Matrix', comparisons=Chemical_Hazard_Comparison, precision=4, random_index='saaty')\n",
    "print(hazard.target_weights)\n",
    "print(accident_hazard.target_weights)\n",
    "print(physical_hazard.target_weights)\n",
    "print(chemical_hazard.target_weights)"
   ]
  },
  {
   "cell_type": "markdown",
   "id": "d70055be",
   "metadata": {},
   "source": [
    "# Multiping Weights "
   ]
  },
  {
   "cell_type": "code",
   "execution_count": 9,
   "id": "c73c922b",
   "metadata": {},
   "outputs": [],
   "source": [
    "hv=list(hazard.target_weights.values()) #Hazard Value\n",
    "ahv=list(accident_hazard.target_weights.values()) #Accident Hazard Value\n",
    "phv=list(physical_hazard.target_weights.values()) #Physical Hazard Value\n",
    "chv=list(chemical_hazard.target_weights.values()) #Chemical Hazard Value\n",
    "hk=list(hazard.target_weights.values()) #Hazard Key\n",
    "ahk=list(accident_hazard.target_weights.keys()) #Accident Hazard Key\n",
    "phk=list(physical_hazard.target_weights.keys()) #Physical Hazard Key\n",
    "chk=list(chemical_hazard.target_weights.keys()) #Chemical Hazard Key"
   ]
  },
  {
   "cell_type": "code",
   "execution_count": 141,
   "id": "1d13c96f",
   "metadata": {},
   "outputs": [
    {
     "name": "stdout",
     "output_type": "stream",
     "text": [
      "{'Fire&Explosion': 0.0889252, 'Trip&Falls': 0.3362086, 'Electricity&Lighting': 0.2118025, 'Machinery&Equipment': 0.18207566999999997, 'Vibration': 0.05447547, 'Temperature': 0.021723029999999997, 'Neurological': 0.05649612, 'Burns': 0.0310959, 'Ventilation': 0.01710798}\n"
     ]
    }
   ],
   "source": [
    "for i in range(3):\n",
    "    ahv[i]=ahv[i]*hv[0]\n",
    "    phv[i]=phv[i]*hv[1]\n",
    "    chv[i]=chv[i]*hv[2]\n",
    "for i in range(3):\n",
    "    final_weights[ahk[i]]=ahv[i]\n",
    "for i in range(3):\n",
    "    final_weights[phk[i]]=phv[i]\n",
    "for i in range(3):\n",
    "    final_weights[chk[i]]=chv[i]\n",
    "\n",
    "print(final_weights)"
   ]
  },
  {
   "cell_type": "markdown",
   "id": "2dab598e",
   "metadata": {},
   "source": [
    "# Calculating Consitincy Ratio"
   ]
  },
  {
   "cell_type": "code",
   "execution_count": 8,
   "id": "bca0840c",
   "metadata": {},
   "outputs": [
    {
     "name": "stdout",
     "output_type": "stream",
     "text": [
      "Consistency Ratio of Hazards= 0.037 <0.1\n",
      "Consistency Ratio of Accident Hazards= 0.0516 <0.1\n",
      "Consistency Ratio of Physical Hazards= 0.0311 <0.1\n",
      "Consistency Ratio of Chemical Hazards= 0.0088 <0.1\n"
     ]
    }
   ],
   "source": [
    "print(\"Consistency Ratio of Hazards=\",hazard.consistency_ratio,\"<0.1\")\n",
    "print(\"Consistency Ratio of Accident Hazards=\",accident_hazard.consistency_ratio,\"<0.1\")\n",
    "print(\"Consistency Ratio of Physical Hazards=\",physical_hazard.consistency_ratio,\"<0.1\")\n",
    "print(\"Consistency Ratio of Chemical Hazards=\",chemical_hazard.consistency_ratio,\"<0.1\")"
   ]
  },
  {
   "cell_type": "markdown",
   "id": "b42de33b",
   "metadata": {},
   "source": [
    "# Sorting Final Weights"
   ]
  },
  {
   "cell_type": "code",
   "execution_count": 143,
   "id": "f00cfce1",
   "metadata": {},
   "outputs": [
    {
     "name": "stdout",
     "output_type": "stream",
     "text": [
      "[0.3362086, 0.2118025, 0.18207566999999997, 0.0889252, 0.05649612, 0.05447547, 0.0310959, 0.021723029999999997, 0.01710798]\n"
     ]
    }
   ],
   "source": [
    "FW=list(final_weights.values())\n",
    "FW.sort(reverse=True)"
   ]
  },
  {
   "cell_type": "code",
   "execution_count": 144,
   "id": "870e155e",
   "metadata": {},
   "outputs": [],
   "source": [
    "FWK=list(final_weights.keys())"
   ]
  },
  {
   "cell_type": "code",
   "execution_count": 157,
   "id": "33190271",
   "metadata": {},
   "outputs": [
    {
     "name": "stdout",
     "output_type": "stream",
     "text": [
      "Sorted Hazrds List:\n",
      "1-Trip&Falls (Weight=0.336)\n",
      "2-Electricity&Lighting (Weight=0.212)\n",
      "3-Machinery&Equipment (Weight=0.182)\n",
      "4-Fire&Explosion (Weight=0.089)\n",
      "5-Neurological (Weight=0.056)\n",
      "6-Vibration (Weight=0.054)\n",
      "7-Burns (Weight=0.031)\n",
      "8-Temperature (Weight=0.022)\n",
      "9-Ventilation (Weight=0.017)\n"
     ]
    }
   ],
   "source": [
    "Hazards=list()\n",
    "for i in range(9):\n",
    "    for j in range(9):\n",
    "        if final_weights.get(FWK[j]) == FW[i]:\n",
    "            Hazards.append(FWK[j])\n",
    "print(\"Sorted Hazrds List:\")\n",
    "for i in range(1,10):\n",
    "    print(\"%s-%s (Weight=%s)\"%(i,Hazards[i-1],round(FW[i-1],3)))"
   ]
  },
  {
   "cell_type": "code",
   "execution_count": null,
   "id": "7ea0551b",
   "metadata": {},
   "outputs": [],
   "source": []
  }
 ],
 "metadata": {
  "kernelspec": {
   "display_name": "Python 3 (ipykernel)",
   "language": "python",
   "name": "python3"
  },
  "language_info": {
   "codemirror_mode": {
    "name": "ipython",
    "version": 3
   },
   "file_extension": ".py",
   "mimetype": "text/x-python",
   "name": "python",
   "nbconvert_exporter": "python",
   "pygments_lexer": "ipython3",
   "version": "3.9.7"
  }
 },
 "nbformat": 4,
 "nbformat_minor": 5
}
